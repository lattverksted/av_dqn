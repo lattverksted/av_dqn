{
 "cells": [
  {
   "cell_type": "code",
   "execution_count": null,
   "metadata": {},
   "outputs": [],
   "source": [
    "from gym import spaces\n",
    "import numpy as np\n",
    "\n",
    "from dqn.model_active_vision import ActiveDQN as DQN_nature\n",
    "from dqn.model_active_vision import Qv as Qv\n",
    "from dqn.model_nature import DQN as DQN_nature\n",
    "from dqn.model_neurips import DQN as DQN_neurips\n",
    "from dqn.replay_buffer import ReplayBuffer\n",
    "import torch\n",
    "import torch.nn.functional as F\n",
    "\n",
    "\n",
    "\n"
   ]
  }
 ],
 "metadata": {
  "kernelspec": {
   "display_name": "Python 3",
   "language": "python",
   "name": "python3"
  },
  "language_info": {
   "codemirror_mode": {
    "name": "ipython",
    "version": 3
   },
   "file_extension": ".py",
   "mimetype": "text/x-python",
   "name": "python",
   "nbconvert_exporter": "python",
   "pygments_lexer": "ipython3",
   "version": "3.8.5"
  }
 },
 "nbformat": 4,
 "nbformat_minor": 4
}
